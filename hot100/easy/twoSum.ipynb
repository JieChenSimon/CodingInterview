{
 "cells": [
  {
   "cell_type": "markdown",
   "id": "4fe182b4",
   "metadata": {},
   "source": [
    "给定一个整数数组 nums 和一个整数目标值 target，请你在该数组中找出 和为目标值 target  的那 两个 整数，并返回它们的数组下标。\n",
    "\n",
    "你可以假设每种输入只会对应一个答案，并且你不能使用两次相同的元素。\n",
    "\n",
    "你可以按任意顺序返回答案。\n",
    "\n",
    "示例 1：\n",
    "\n",
    "输入：nums = [2,7,11,15], target = 9\n",
    "输出：[0,1]\n",
    "解释：因为 nums[0] + nums[1] == 9 ，返回 [0, 1] 。\n",
    "示例 2：\n",
    "\n",
    "输入：nums = [3,2,4], target = 6\n",
    "输出：[1,2]\n",
    "示例 3：\n",
    "\n",
    "输入：nums = [3,3], target = 6\n",
    "输出：[0,1]\n",
    " \n",
    "\n",
    "提示：\n",
    "\n",
    "2 <= nums.length <= 104\n",
    "-109 <= nums[i] <= 109\n",
    "-109 <= target <= 109\n",
    "只会存在一个有效答案\n",
    " \n",
    "\n",
    "进阶：你可以想出一个时间复杂度小于 O(n2) 的算法吗？"
   ]
  },
  {
   "cell_type": "markdown",
   "id": "15d3547d",
   "metadata": {},
   "source": [
    "## 方法一 暴力枚举\n",
    "\n",
    "思路及算法\n",
    "\n",
    "最容易想到的方法是枚举数组中的每一个数 x，寻找数组中是否存在 target - x。\n",
    "\n",
    "当我们使用遍历整个数组的方式寻找 target - x 时，需要注意到每一个位于 x 之前的元素都已经和 x 匹配过，因此不需要再进行匹配。而每一个元素不能被使用两次，所以我们只需要在 x 后面的元素中寻找 target - x。\n",
    "\n",
    "复杂度分析\n",
    "\n",
    "时间复杂度：O(N^2)，其中 N 是数组中的元素数量。最坏情况下数组中任意两个数都要被匹配一次。\n",
    "\n",
    "空间复杂度：O(1)。"
   ]
  },
  {
   "cell_type": "code",
   "execution_count": 4,
   "id": "a3546890",
   "metadata": {},
   "outputs": [
    {
     "name": "stdout",
     "output_type": "stream",
     "text": [
      "[0, 1]\n"
     ]
    }
   ],
   "source": [
    "def twoSum(nums, target):\n",
    "    for i in range(len(nums)):\n",
    "        x = nums[i]\n",
    "        for j in range(i+1, len(nums)):\n",
    "            if target - x == nums[j]:\n",
    "                return [i, j]\n",
    "\n",
    "nums = [2, 7, 11, 15]\n",
    "target = 9\n",
    "\n",
    "print(twoSum(nums, target))\n"
   ]
  },
  {
   "cell_type": "markdown",
   "id": "4701eba6",
   "metadata": {},
   "source": [
    "### 方法二：哈希表\n",
    "思路及算法\n",
    "\n",
    "注意到方法一的时间复杂度较高的原因是寻找 target - x 的时间复杂度过高。因此，我们需要一种更优秀的方法，能够快速寻找数组中是否存在目标元素。如果存在，我们需要找出它的索引。\n",
    "\n",
    "使用哈希表，可以将寻找 target - x 的时间复杂度降低到从 O(N) 降低到 O(1)。\n",
    "\n",
    "这样我们创建一个哈希表，对于每一个 x，我们首先查询哈希表中是否存在 target - x，然后将 x 插入到哈希表中，即可保证不会让 x 和自己匹配。"
   ]
  },
  {
   "cell_type": "code",
   "execution_count": null,
   "id": "2209af26",
   "metadata": {},
   "outputs": [],
   "source": [
    "def twoSum(nums, target):\n",
    "    # 创建一个空字典（hash table），用来把值（nums 的元素）映射到它们的索引（index）。字典（dict）在 Python 中基于哈希表实现，平均时间复杂度为 O(1) 的查找、插入。这让我们可以在遍历数组时快速判断某个值是否已出现过并取出其索引。等价写法：hashtable = {}。两者等价。\n",
    "    hashtable = dict()\n",
    "    for i, num in enumerate(nums):\n",
    "        if target - num in hashtable:\n",
    "            return [hashtable[target - num], i]\n",
    "        # 这里是映射的。在python中 dict[key] = value，在字典 hashtable 中，保存一条映射关系：键是当前数值 num，值是它的索引 i\n",
    "        hashtable[nums[i]] = i\n",
    "        # 为什么晚插入（而不是先插入再检查）：这段代码采用“在检查之前不把当前元素加入字典”的策略，目的是避免把同一个元素用作自己的配对（除非题目允许使用同一位置两次）。更重要的是，此处逻辑是一边遍历一边查找是否存在配对的“前面”元素，这样能在单次遍历中完成任务（one-pass）。注意：如果把插入放在 if 检查之前，仍可以工作，但需要小心处理可能将自己配对自己的情况或覆盖之前相同值的索引。\n",
    "    return []\n",
    "\n",
    "nums = [2, 7, 11, 15]\n",
    "target = 9"
   ]
  }
 ],
 "metadata": {
  "kernelspec": {
   "display_name": "base",
   "language": "python",
   "name": "python3"
  },
  "language_info": {
   "codemirror_mode": {
    "name": "ipython",
    "version": 3
   },
   "file_extension": ".py",
   "mimetype": "text/x-python",
   "name": "python",
   "nbconvert_exporter": "python",
   "pygments_lexer": "ipython3",
   "version": "3.12.2"
  }
 },
 "nbformat": 4,
 "nbformat_minor": 5
}
